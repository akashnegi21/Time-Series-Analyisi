{
 "cells": [
  {
   "cell_type": "markdown",
   "metadata": {},
   "source": [
    "# A Project on VARMA Model"
   ]
  },
  {
   "cell_type": "markdown",
   "metadata": {},
   "source": [
    "#### Importing the required libraries"
   ]
  },
  {
   "cell_type": "code",
   "execution_count": 270,
   "metadata": {},
   "outputs": [],
   "source": [
    "import numpy as np\n",
    "import pandas as pd\n",
    "import matplotlib.pyplot as plt\n",
    "import warnings \n",
    "warnings.filterwarnings('ignore')\n",
    "from statsmodels.tsa.api import VAR\n",
    "from statsmodels.tsa.stattools import adfuller\n",
    "from statsmodels.tsa.statespace.varmax import VARMAX"
   ]
  },
  {
   "cell_type": "markdown",
   "metadata": {},
   "source": [
    "#### Reading the data"
   ]
  },
  {
   "cell_type": "code",
   "execution_count": 271,
   "metadata": {},
   "outputs": [
    {
     "data": {
      "text/html": [
       "<div>\n",
       "<style scoped>\n",
       "    .dataframe tbody tr th:only-of-type {\n",
       "        vertical-align: middle;\n",
       "    }\n",
       "\n",
       "    .dataframe tbody tr th {\n",
       "        vertical-align: top;\n",
       "    }\n",
       "\n",
       "    .dataframe thead th {\n",
       "        text-align: right;\n",
       "    }\n",
       "</style>\n",
       "<table border=\"1\" class=\"dataframe\">\n",
       "  <thead>\n",
       "    <tr style=\"text-align: right;\">\n",
       "      <th></th>\n",
       "      <th>Money</th>\n",
       "    </tr>\n",
       "    <tr>\n",
       "      <th>Date</th>\n",
       "      <th></th>\n",
       "    </tr>\n",
       "  </thead>\n",
       "  <tbody>\n",
       "    <tr>\n",
       "      <th>1995-01-01</th>\n",
       "      <td>3492.4</td>\n",
       "    </tr>\n",
       "    <tr>\n",
       "      <th>1995-02-01</th>\n",
       "      <td>3489.9</td>\n",
       "    </tr>\n",
       "    <tr>\n",
       "      <th>1995-03-01</th>\n",
       "      <td>3491.1</td>\n",
       "    </tr>\n",
       "    <tr>\n",
       "      <th>1995-04-01</th>\n",
       "      <td>3499.2</td>\n",
       "    </tr>\n",
       "    <tr>\n",
       "      <th>1995-05-01</th>\n",
       "      <td>3524.2</td>\n",
       "    </tr>\n",
       "  </tbody>\n",
       "</table>\n",
       "</div>"
      ],
      "text/plain": [
       "             Money\n",
       "Date              \n",
       "1995-01-01  3492.4\n",
       "1995-02-01  3489.9\n",
       "1995-03-01  3491.1\n",
       "1995-04-01  3499.2\n",
       "1995-05-01  3524.2"
      ]
     },
     "execution_count": 271,
     "metadata": {},
     "output_type": "execute_result"
    }
   ],
   "source": [
    "#reading first dataframe\n",
    "df=pd.read_csv(\"M2SLMoneyStock.csv\",index_col=0,parse_dates=True)\n",
    "df.index.freq='MS'\n",
    "df.head()"
   ]
  },
  {
   "cell_type": "code",
   "execution_count": 272,
   "metadata": {},
   "outputs": [
    {
     "data": {
      "text/html": [
       "<div>\n",
       "<style scoped>\n",
       "    .dataframe tbody tr th:only-of-type {\n",
       "        vertical-align: middle;\n",
       "    }\n",
       "\n",
       "    .dataframe tbody tr th {\n",
       "        vertical-align: top;\n",
       "    }\n",
       "\n",
       "    .dataframe thead th {\n",
       "        text-align: right;\n",
       "    }\n",
       "</style>\n",
       "<table border=\"1\" class=\"dataframe\">\n",
       "  <thead>\n",
       "    <tr style=\"text-align: right;\">\n",
       "      <th></th>\n",
       "      <th>Spending</th>\n",
       "    </tr>\n",
       "    <tr>\n",
       "      <th>Date</th>\n",
       "      <th></th>\n",
       "    </tr>\n",
       "  </thead>\n",
       "  <tbody>\n",
       "    <tr>\n",
       "      <th>1995-01-01</th>\n",
       "      <td>4851.2</td>\n",
       "    </tr>\n",
       "    <tr>\n",
       "      <th>1995-02-01</th>\n",
       "      <td>4850.8</td>\n",
       "    </tr>\n",
       "    <tr>\n",
       "      <th>1995-03-01</th>\n",
       "      <td>4885.4</td>\n",
       "    </tr>\n",
       "    <tr>\n",
       "      <th>1995-04-01</th>\n",
       "      <td>4890.2</td>\n",
       "    </tr>\n",
       "    <tr>\n",
       "      <th>1995-05-01</th>\n",
       "      <td>4933.1</td>\n",
       "    </tr>\n",
       "  </tbody>\n",
       "</table>\n",
       "</div>"
      ],
      "text/plain": [
       "            Spending\n",
       "Date                \n",
       "1995-01-01    4851.2\n",
       "1995-02-01    4850.8\n",
       "1995-03-01    4885.4\n",
       "1995-04-01    4890.2\n",
       "1995-05-01    4933.1"
      ]
     },
     "execution_count": 272,
     "metadata": {},
     "output_type": "execute_result"
    }
   ],
   "source": [
    "#reading second datafrane\n",
    "sp=pd.read_csv(\"C:\\\\Users\\\\AKASH pc\\\\Downloads\\\\Python for Time Series Data Analysis\\\\Data\\\\PCEPersonalSpending.csv\",index_col=0,parse_dates=True)\n",
    "sp.index.freq='MS'\n",
    "sp.head()"
   ]
  },
  {
   "cell_type": "markdown",
   "metadata": {},
   "source": [
    "#### Joining both dataframe to form one dataframe"
   ]
  },
  {
   "cell_type": "code",
   "execution_count": 273,
   "metadata": {},
   "outputs": [
    {
     "data": {
      "text/html": [
       "<div>\n",
       "<style scoped>\n",
       "    .dataframe tbody tr th:only-of-type {\n",
       "        vertical-align: middle;\n",
       "    }\n",
       "\n",
       "    .dataframe tbody tr th {\n",
       "        vertical-align: top;\n",
       "    }\n",
       "\n",
       "    .dataframe thead th {\n",
       "        text-align: right;\n",
       "    }\n",
       "</style>\n",
       "<table border=\"1\" class=\"dataframe\">\n",
       "  <thead>\n",
       "    <tr style=\"text-align: right;\">\n",
       "      <th></th>\n",
       "      <th>Money</th>\n",
       "      <th>Spending</th>\n",
       "    </tr>\n",
       "    <tr>\n",
       "      <th>Date</th>\n",
       "      <th></th>\n",
       "      <th></th>\n",
       "    </tr>\n",
       "  </thead>\n",
       "  <tbody>\n",
       "    <tr>\n",
       "      <th>1995-01-01</th>\n",
       "      <td>3492.4</td>\n",
       "      <td>4851.2</td>\n",
       "    </tr>\n",
       "    <tr>\n",
       "      <th>1995-02-01</th>\n",
       "      <td>3489.9</td>\n",
       "      <td>4850.8</td>\n",
       "    </tr>\n",
       "    <tr>\n",
       "      <th>1995-03-01</th>\n",
       "      <td>3491.1</td>\n",
       "      <td>4885.4</td>\n",
       "    </tr>\n",
       "    <tr>\n",
       "      <th>1995-04-01</th>\n",
       "      <td>3499.2</td>\n",
       "      <td>4890.2</td>\n",
       "    </tr>\n",
       "    <tr>\n",
       "      <th>1995-05-01</th>\n",
       "      <td>3524.2</td>\n",
       "      <td>4933.1</td>\n",
       "    </tr>\n",
       "  </tbody>\n",
       "</table>\n",
       "</div>"
      ],
      "text/plain": [
       "             Money  Spending\n",
       "Date                        \n",
       "1995-01-01  3492.4    4851.2\n",
       "1995-02-01  3489.9    4850.8\n",
       "1995-03-01  3491.1    4885.4\n",
       "1995-04-01  3499.2    4890.2\n",
       "1995-05-01  3524.2    4933.1"
      ]
     },
     "execution_count": 273,
     "metadata": {},
     "output_type": "execute_result"
    }
   ],
   "source": [
    "#concating a new dataframe\n",
    "data=pd.concat([df,sp],axis=1)\n",
    "data.shape\n",
    "data.head()"
   ]
  },
  {
   "cell_type": "code",
   "execution_count": 274,
   "metadata": {},
   "outputs": [],
   "source": [
    "#dropping null values\n",
    "data=data.dropna()\n"
   ]
  },
  {
   "cell_type": "markdown",
   "metadata": {},
   "source": [
    "#### Just plotting the data to see the trend"
   ]
  },
  {
   "cell_type": "code",
   "execution_count": 275,
   "metadata": {
    "scrolled": true
   },
   "outputs": [
    {
     "data": {
      "text/plain": [
       "<matplotlib.axes._subplots.AxesSubplot at 0x167021aaf10>"
      ]
     },
     "execution_count": 275,
     "metadata": {},
     "output_type": "execute_result"
    },
    {
     "data": {
      "image/png": "[encoded data removed]",
      "text/plain": [
       "<Figure size 864x576 with 1 Axes>"
      ]
     },
     "metadata": {
      "needs_background": "light"
     },
     "output_type": "display_data"
    }
   ],
   "source": [
    "#plotting the data\n",
    "data.plot(figsize=(12,8))"
   ]
  },
  {
   "cell_type": "markdown",
   "metadata": {},
   "source": [
    "#### Obtaining the order of VARMA model through auto_arima function"
   ]
  },
  {
   "cell_type": "code",
   "execution_count": 284,
   "metadata": {},
   "outputs": [
    {
     "data": {
      "text/plain": [
       "ARIMA(order=(1, 2, 2), scoring_args={}, with_intercept=False)"
      ]
     },
     "execution_count": 284,
     "metadata": {},
     "output_type": "execute_result"
    }
   ],
   "source": [
    "auto_arima(data['Money'])"
   ]
  },
  {
   "cell_type": "code",
   "execution_count": 283,
   "metadata": {},
   "outputs": [
    {
     "data": {
      "text/plain": [
       "ARIMA(order=(1, 1, 2), scoring_args={})"
      ]
     },
     "execution_count": 283,
     "metadata": {},
     "output_type": "execute_result"
    }
   ],
   "source": [
    "auto_arima(data['Spending'])"
   ]
  },
  {
   "cell_type": "markdown",
   "metadata": {},
   "source": [
    "The order of p and q are (1,2)"
   ]
  },
  {
   "cell_type": "markdown",
   "metadata": {},
   "source": [
    "#### Performing adfuller test to check the stationarity of both the columns"
   ]
  },
  {
   "cell_type": "code",
   "execution_count": 285,
   "metadata": {},
   "outputs": [
    {
     "data": {
      "text/plain": [
       "(4.239022425670641,\n",
       " 1.0,\n",
       " 4,\n",
       " 247,\n",
       " {'1%': -3.457105309726321,\n",
       "  '5%': -2.873313676101283,\n",
       "  '10%': -2.5730443824681606},\n",
       " 2219.917877142354)"
      ]
     },
     "execution_count": 285,
     "metadata": {},
     "output_type": "execute_result"
    }
   ],
   "source": [
    "adfuller(data['Money'])"
   ]
  },
  {
   "cell_type": "code",
   "execution_count": 286,
   "metadata": {},
   "outputs": [
    {
     "data": {
      "text/plain": [
       "(0.14979608598625258,\n",
       " 0.9693009944428311,\n",
       " 3,\n",
       " 248,\n",
       " {'1%': -3.4569962781990573,\n",
       "  '5%': -2.8732659015936024,\n",
       "  '10%': -2.573018897632674},\n",
       " 2339.735574840993)"
      ]
     },
     "execution_count": 286,
     "metadata": {},
     "output_type": "execute_result"
    }
   ],
   "source": [
    "adfuller(data['Spending'])"
   ]
  },
  {
   "cell_type": "markdown",
   "metadata": {},
   "source": [
    "data is not satisfied so we do the differencing till the data become stationary"
   ]
  },
  {
   "cell_type": "code",
   "execution_count": 287,
   "metadata": {},
   "outputs": [
    {
     "name": "stdout",
     "output_type": "stream",
     "text": [
      "(-7.226973930850648, 2.0410272592129706e-10, 2, 248, {'1%': -3.4569962781990573, '5%': -2.8732659015936024, '10%': -2.573018897632674}, 2328.23145843905)\n"
     ]
    },
    {
     "data": {
      "text/plain": [
       "(-2.0574040497379387,\n",
       " 0.26198379785112474,\n",
       " 15,\n",
       " 235,\n",
       " {'1%': -3.4584868856997004,\n",
       "  '5%': -2.873918902362675,\n",
       "  '10%': -2.573367247623359},\n",
       " 2222.948346069441)"
      ]
     },
     "execution_count": 287,
     "metadata": {},
     "output_type": "execute_result"
    }
   ],
   "source": [
    "data1=data.diff()\n",
    "print(adfuller(data1['Spending'][1:]))\n",
    "adfuller(data1['Money'][1:])"
   ]
  },
  {
   "cell_type": "markdown",
   "metadata": {},
   "source": [
    "We will again difference"
   ]
  },
  {
   "cell_type": "code",
   "execution_count": 288,
   "metadata": {},
   "outputs": [
    {
     "name": "stdout",
     "output_type": "stream",
     "text": [
      "(-7.077470794342999, 4.760674931296582e-10, 14, 235, {'1%': -3.4584868856997004, '5%': -2.873918902362675, '10%': -2.573367247623359}, 2217.097202826827)\n"
     ]
    },
    {
     "data": {
      "text/plain": [
       "(-8.760145426337711,\n",
       " 2.6878999679872806e-14,\n",
       " 8,\n",
       " 241,\n",
       " {'1%': -3.4577787098622674,\n",
       "  '5%': -2.873608704758507,\n",
       "  '10%': -2.573201765981991},\n",
       " 2339.3283710766104)"
      ]
     },
     "execution_count": 288,
     "metadata": {},
     "output_type": "execute_result"
    }
   ],
   "source": [
    "data2=data1.diff().dropna()\n",
    "print(adfuller(data2['Money']))\n",
    "adfuller(data2['Spending'])"
   ]
  },
  {
   "cell_type": "markdown",
   "metadata": {},
   "source": [
    "now we are satisfied that our data is stationary "
   ]
  },
  {
   "cell_type": "markdown",
   "metadata": {},
   "source": [
    "#### Train-Test Split"
   ]
  },
  {
   "cell_type": "code",
   "execution_count": 289,
   "metadata": {},
   "outputs": [],
   "source": [
    "nobs=12\n",
    "train=data2.iloc[:-nobs]\n",
    "test=data2.iloc[-nobs:]"
   ]
  },
  {
   "cell_type": "markdown",
   "metadata": {},
   "source": [
    "#### Model fitting on training set"
   ]
  },
  {
   "cell_type": "code",
   "execution_count": 290,
   "metadata": {},
   "outputs": [
    {
     "data": {
      "text/html": [
       "<table class=\"simpletable\">\n",
       "<caption>Statespace Model Results</caption>\n",
       "<tr>\n",
       "  <th>Dep. Variable:</th>   <td>['Money', 'Spending']</td> <th>  No. Observations:  </th>    <td>238</td>   \n",
       "</tr>\n",
       "<tr>\n",
       "  <th>Model:</th>                <td>VARMA(1,2)</td>       <th>  Log Likelihood     </th> <td>-2291.824</td>\n",
       "</tr>\n",
       "<tr>\n",
       "  <th></th>                      <td>+ intercept</td>      <th>  AIC                </th> <td>4617.648</td> \n",
       "</tr>\n",
       "<tr>\n",
       "  <th>Date:</th>              <td>Mon, 16 Nov 2020</td>    <th>  BIC                </th> <td>4676.677</td> \n",
       "</tr>\n",
       "<tr>\n",
       "  <th>Time:</th>                  <td>22:58:53</td>        <th>  HQIC               </th> <td>4641.438</td> \n",
       "</tr>\n",
       "<tr>\n",
       "  <th>Sample:</th>               <td>03-01-1995</td>       <th>                     </th>     <td> </td>    \n",
       "</tr>\n",
       "<tr>\n",
       "  <th></th>                     <td>- 12-01-2014</td>      <th>                     </th>     <td> </td>    \n",
       "</tr>\n",
       "<tr>\n",
       "  <th>Covariance Type:</th>          <td>opg</td>          <th>                     </th>     <td> </td>    \n",
       "</tr>\n",
       "</table>\n",
       "<table class=\"simpletable\">\n",
       "<tr>\n",
       "  <th>Ljung-Box (Q):</th>          <td>71.05, 30.34</td> <th>  Jarque-Bera (JB):  </th> <td>645.02, 134.64</td>\n",
       "</tr>\n",
       "<tr>\n",
       "  <th>Prob(Q):</th>                 <td>0.00, 0.87</td>  <th>  Prob(JB):          </th>   <td>0.00, 0.00</td>  \n",
       "</tr>\n",
       "<tr>\n",
       "  <th>Heteroskedasticity (H):</th>  <td>6.26, 2.56</td>  <th>  Skew:              </th>   <td>1.40, -0.29</td> \n",
       "</tr>\n",
       "<tr>\n",
       "  <th>Prob(H) (two-sided):</th>     <td>0.00, 0.00</td>  <th>  Kurtosis:          </th>   <td>10.56, 6.64</td> \n",
       "</tr>\n",
       "</table>\n",
       "<table class=\"simpletable\">\n",
       "<caption>Results for equation Money</caption>\n",
       "<tr>\n",
       "         <td></td>           <th>coef</th>     <th>std err</th>      <th>z</th>      <th>P>|z|</th>  <th>[0.025</th>    <th>0.975]</th>  \n",
       "</tr>\n",
       "<tr>\n",
       "  <th>intercept</th>      <td>    0.0427</td> <td>    3.623</td> <td>    0.012</td> <td> 0.991</td> <td>   -7.059</td> <td>    7.144</td>\n",
       "</tr>\n",
       "<tr>\n",
       "  <th>L1.Money</th>       <td>   -0.5278</td> <td>   10.215</td> <td>   -0.052</td> <td> 0.959</td> <td>  -20.549</td> <td>   19.493</td>\n",
       "</tr>\n",
       "<tr>\n",
       "  <th>L1.Spending</th>    <td>    0.1854</td> <td>   12.596</td> <td>    0.015</td> <td> 0.988</td> <td>  -24.501</td> <td>   24.872</td>\n",
       "</tr>\n",
       "<tr>\n",
       "  <th>L1.e(Money)</th>    <td>   -0.2479</td> <td>   10.220</td> <td>   -0.024</td> <td> 0.981</td> <td>  -20.279</td> <td>   19.783</td>\n",
       "</tr>\n",
       "<tr>\n",
       "  <th>L1.e(Spending)</th> <td>   -0.2597</td> <td>   12.603</td> <td>   -0.021</td> <td> 0.984</td> <td>  -24.962</td> <td>   24.443</td>\n",
       "</tr>\n",
       "<tr>\n",
       "  <th>L2.e(Money)</th>    <td>   -0.7063</td> <td>    9.245</td> <td>   -0.076</td> <td> 0.939</td> <td>  -18.826</td> <td>   17.413</td>\n",
       "</tr>\n",
       "<tr>\n",
       "  <th>L2.e(Spending)</th> <td>    0.1897</td> <td>   10.986</td> <td>    0.017</td> <td> 0.986</td> <td>  -21.342</td> <td>   21.721</td>\n",
       "</tr>\n",
       "</table>\n",
       "<table class=\"simpletable\">\n",
       "<caption>Results for equation Spending</caption>\n",
       "<tr>\n",
       "         <td></td>           <th>coef</th>     <th>std err</th>      <th>z</th>      <th>P>|z|</th>  <th>[0.025</th>    <th>0.975]</th>  \n",
       "</tr>\n",
       "<tr>\n",
       "  <th>intercept</th>      <td>    0.5267</td> <td>    4.976</td> <td>    0.106</td> <td> 0.916</td> <td>   -9.227</td> <td>   10.280</td>\n",
       "</tr>\n",
       "<tr>\n",
       "  <th>L1.Money</th>       <td>    0.1491</td> <td>   13.783</td> <td>    0.011</td> <td> 0.991</td> <td>  -26.866</td> <td>   27.164</td>\n",
       "</tr>\n",
       "<tr>\n",
       "  <th>L1.Spending</th>    <td>   -0.5743</td> <td>   17.095</td> <td>   -0.034</td> <td> 0.973</td> <td>  -34.081</td> <td>   32.932</td>\n",
       "</tr>\n",
       "<tr>\n",
       "  <th>L1.e(Money)</th>    <td>   -0.0465</td> <td>   13.766</td> <td>   -0.003</td> <td> 0.997</td> <td>  -27.028</td> <td>   26.935</td>\n",
       "</tr>\n",
       "<tr>\n",
       "  <th>L1.e(Spending)</th> <td>   -0.3575</td> <td>   17.106</td> <td>   -0.021</td> <td> 0.983</td> <td>  -33.884</td> <td>   33.169</td>\n",
       "</tr>\n",
       "<tr>\n",
       "  <th>L2.e(Money)</th>    <td>   -0.0475</td> <td>   12.445</td> <td>   -0.004</td> <td> 0.997</td> <td>  -24.440</td> <td>   24.345</td>\n",
       "</tr>\n",
       "<tr>\n",
       "  <th>L2.e(Spending)</th> <td>   -0.4773</td> <td>   14.909</td> <td>   -0.032</td> <td> 0.974</td> <td>  -29.698</td> <td>   28.743</td>\n",
       "</tr>\n",
       "</table>\n",
       "<table class=\"simpletable\">\n",
       "<caption>Error covariance matrix</caption>\n",
       "<tr>\n",
       "             <td></td>                <th>coef</th>     <th>std err</th>      <th>z</th>      <th>P>|z|</th>  <th>[0.025</th>    <th>0.975]</th>  \n",
       "</tr>\n",
       "<tr>\n",
       "  <th>sqrt.var.Money</th>          <td>   25.7562</td> <td>    1.037</td> <td>   24.830</td> <td> 0.000</td> <td>   23.723</td> <td>   27.789</td>\n",
       "</tr>\n",
       "<tr>\n",
       "  <th>sqrt.cov.Money.Spending</th> <td>   -7.3086</td> <td>    2.168</td> <td>   -3.371</td> <td> 0.001</td> <td>  -11.558</td> <td>   -3.059</td>\n",
       "</tr>\n",
       "<tr>\n",
       "  <th>sqrt.var.Spending</th>       <td>   35.3030</td> <td>    1.407</td> <td>   25.088</td> <td> 0.000</td> <td>   32.545</td> <td>   38.061</td>\n",
       "</tr>\n",
       "</table><br/><br/>Warnings:<br/>[1] Covariance matrix calculated using the outer product of gradients (complex-step)."
      ],
      "text/plain": [
       "<class 'statsmodels.iolib.summary.Summary'>\n",
       "\"\"\"\n",
       "                             Statespace Model Results                            \n",
       "=================================================================================\n",
       "Dep. Variable:     ['Money', 'Spending']   No. Observations:                  238\n",
       "Model:                        VARMA(1,2)   Log Likelihood               -2291.824\n",
       "                             + intercept   AIC                           4617.648\n",
       "Date:                   Mon, 16 Nov 2020   BIC                           4676.677\n",
       "Time:                           22:58:53   HQIC                          4641.438\n",
       "Sample:                       03-01-1995                                         \n",
       "                            - 12-01-2014                                         \n",
       "Covariance Type:                     opg                                         \n",
       "===================================================================================\n",
       "Ljung-Box (Q):                71.05, 30.34   Jarque-Bera (JB):       645.02, 134.64\n",
       "Prob(Q):                        0.00, 0.87   Prob(JB):                   0.00, 0.00\n",
       "Heteroskedasticity (H):         6.26, 2.56   Skew:                      1.40, -0.29\n",
       "Prob(H) (two-sided):            0.00, 0.00   Kurtosis:                  10.56, 6.64\n",
       "                            Results for equation Money                            \n",
       "==================================================================================\n",
       "                     coef    std err          z      P>|z|      [0.025      0.975]\n",
       "----------------------------------------------------------------------------------\n",
       "intercept          0.0427      3.623      0.012      0.991      -7.059       7.144\n",
       "L1.Money          -0.5278     10.215     -0.052      0.959     -20.549      19.493\n",
       "L1.Spending        0.1854     12.596      0.015      0.988     -24.501      24.872\n",
       "L1.e(Money)       -0.2479     10.220     -0.024      0.981     -20.279      19.783\n",
       "L1.e(Spending)    -0.2597     12.603     -0.021      0.984     -24.962      24.443\n",
       "L2.e(Money)       -0.7063      9.245     -0.076      0.939     -18.826      17.413\n",
       "L2.e(Spending)     0.1897     10.986      0.017      0.986     -21.342      21.721\n",
       "                          Results for equation Spending                           \n",
       "==================================================================================\n",
       "                     coef    std err          z      P>|z|      [0.025      0.975]\n",
       "----------------------------------------------------------------------------------\n",
       "intercept          0.5267      4.976      0.106      0.916      -9.227      10.280\n",
       "L1.Money           0.1491     13.783      0.011      0.991     -26.866      27.164\n",
       "L1.Spending       -0.5743     17.095     -0.034      0.973     -34.081      32.932\n",
       "L1.e(Money)       -0.0465     13.766     -0.003      0.997     -27.028      26.935\n",
       "L1.e(Spending)    -0.3575     17.106     -0.021      0.983     -33.884      33.169\n",
       "L2.e(Money)       -0.0475     12.445     -0.004      0.997     -24.440      24.345\n",
       "L2.e(Spending)    -0.4773     14.909     -0.032      0.974     -29.698      28.743\n",
       "                                  Error covariance matrix                                  \n",
       "===========================================================================================\n",
       "                              coef    std err          z      P>|z|      [0.025      0.975]\n",
       "-------------------------------------------------------------------------------------------\n",
       "sqrt.var.Money             25.7562      1.037     24.830      0.000      23.723      27.789\n",
       "sqrt.cov.Money.Spending    -7.3086      2.168     -3.371      0.001     -11.558      -3.059\n",
       "sqrt.var.Spending          35.3030      1.407     25.088      0.000      32.545      38.061\n",
       "===========================================================================================\n",
       "\n",
       "Warnings:\n",
       "[1] Covariance matrix calculated using the outer product of gradients (complex-step).\n",
       "\"\"\""
      ]
     },
     "execution_count": 290,
     "metadata": {},
     "output_type": "execute_result"
    }
   ],
   "source": [
    "#fitting on range of number to know the order of VAR model\n",
    "model=VARMAX(train,order=(1,2),trend='c')\n",
    "result=model.fit()\n",
    "result.summary()"
   ]
  },
  {
   "cell_type": "markdown",
   "metadata": {},
   "source": [
    "#### Forecasting the result of the model"
   ]
  },
  {
   "cell_type": "code",
   "execution_count": 291,
   "metadata": {},
   "outputs": [
    {
     "data": {
      "text/html": [
       "<div>\n",
       "<style scoped>\n",
       "    .dataframe tbody tr th:only-of-type {\n",
       "        vertical-align: middle;\n",
       "    }\n",
       "\n",
       "    .dataframe tbody tr th {\n",
       "        vertical-align: top;\n",
       "    }\n",
       "\n",
       "    .dataframe thead th {\n",
       "        text-align: right;\n",
       "    }\n",
       "</style>\n",
       "<table border=\"1\" class=\"dataframe\">\n",
       "  <thead>\n",
       "    <tr style=\"text-align: right;\">\n",
       "      <th></th>\n",
       "      <th>Money</th>\n",
       "      <th>Spending</th>\n",
       "    </tr>\n",
       "  </thead>\n",
       "  <tbody>\n",
       "    <tr>\n",
       "      <th>2015-01-01</th>\n",
       "      <td>-18.479354</td>\n",
       "      <td>37.568815</td>\n",
       "    </tr>\n",
       "    <tr>\n",
       "      <th>2015-02-01</th>\n",
       "      <td>-10.837259</td>\n",
       "      <td>-8.339755</td>\n",
       "    </tr>\n",
       "    <tr>\n",
       "      <th>2015-03-01</th>\n",
       "      <td>4.217030</td>\n",
       "      <td>3.699753</td>\n",
       "    </tr>\n",
       "    <tr>\n",
       "      <th>2015-04-01</th>\n",
       "      <td>-1.497380</td>\n",
       "      <td>-0.969060</td>\n",
       "    </tr>\n",
       "    <tr>\n",
       "      <th>2015-05-01</th>\n",
       "      <td>0.653423</td>\n",
       "      <td>0.859884</td>\n",
       "    </tr>\n",
       "    <tr>\n",
       "      <th>2015-06-01</th>\n",
       "      <td>-0.142812</td>\n",
       "      <td>0.130335</td>\n",
       "    </tr>\n",
       "    <tr>\n",
       "      <th>2015-07-01</th>\n",
       "      <td>0.142230</td>\n",
       "      <td>0.430547</td>\n",
       "    </tr>\n",
       "    <tr>\n",
       "      <th>2015-08-01</th>\n",
       "      <td>0.047427</td>\n",
       "      <td>0.300653</td>\n",
       "    </tr>\n",
       "    <tr>\n",
       "      <th>2015-09-01</th>\n",
       "      <td>0.073388</td>\n",
       "      <td>0.361109</td>\n",
       "    </tr>\n",
       "    <tr>\n",
       "      <th>2015-10-01</th>\n",
       "      <td>0.070892</td>\n",
       "      <td>0.330263</td>\n",
       "    </tr>\n",
       "    <tr>\n",
       "      <th>2015-11-01</th>\n",
       "      <td>0.066491</td>\n",
       "      <td>0.347605</td>\n",
       "    </tr>\n",
       "    <tr>\n",
       "      <th>2015-12-01</th>\n",
       "      <td>0.072029</td>\n",
       "      <td>0.336989</td>\n",
       "    </tr>\n",
       "  </tbody>\n",
       "</table>\n",
       "</div>"
      ],
      "text/plain": [
       "                Money   Spending\n",
       "2015-01-01 -18.479354  37.568815\n",
       "2015-02-01 -10.837259  -8.339755\n",
       "2015-03-01   4.217030   3.699753\n",
       "2015-04-01  -1.497380  -0.969060\n",
       "2015-05-01   0.653423   0.859884\n",
       "2015-06-01  -0.142812   0.130335\n",
       "2015-07-01   0.142230   0.430547\n",
       "2015-08-01   0.047427   0.300653\n",
       "2015-09-01   0.073388   0.361109\n",
       "2015-10-01   0.070892   0.330263\n",
       "2015-11-01   0.066491   0.347605\n",
       "2015-12-01   0.072029   0.336989"
      ]
     },
     "execution_count": 291,
     "metadata": {},
     "output_type": "execute_result"
    }
   ],
   "source": [
    "forecasted_df=result.forecast(12)\n",
    "forecasted_df"
   ]
  },
  {
   "cell_type": "markdown",
   "metadata": {},
   "source": [
    "#### Reverting the data into the original form"
   ]
  },
  {
   "cell_type": "code",
   "execution_count": 292,
   "metadata": {},
   "outputs": [],
   "source": [
    "# Add the most recent first difference from the training side of the original dataset to the forecast cumulative sum\n",
    "forecasted_df['Money_1d'] = (data['Money'].iloc[-nobs-1]-data['Money'].iloc[-nobs-2]) + forecasted_df['Money'].cumsum()\n",
    "\n",
    "# Now build the forecast values from the first difference set\n",
    "forecasted_df['MoneyForecast'] = data['Money'].iloc[-nobs-1] + forecasted_df['Money_1d'].cumsum()\n",
    "\n",
    "# Add the most recent first difference from the training side of the original dataset to the forecast cumulative sum\n",
    "forecasted_df['Spending_1d'] = (data['Spending'].iloc[-nobs-1]-data['Spending'].iloc[-nobs-2]) + forecasted_df['Spending'].cumsum()\n",
    "\n",
    "# Now build the forecast values from the first difference set\n",
    "forecasted_df['SpendingForecast'] = data['Spending'].iloc[-nobs-1] + forecasted_df['Spending_1d'].cumsum()"
   ]
  },
  {
   "cell_type": "code",
   "execution_count": 293,
   "metadata": {},
   "outputs": [
    {
     "data": {
      "text/html": [
       "<div>\n",
       "<style scoped>\n",
       "    .dataframe tbody tr th:only-of-type {\n",
       "        vertical-align: middle;\n",
       "    }\n",
       "\n",
       "    .dataframe tbody tr th {\n",
       "        vertical-align: top;\n",
       "    }\n",
       "\n",
       "    .dataframe thead th {\n",
       "        text-align: right;\n",
       "    }\n",
       "</style>\n",
       "<table border=\"1\" class=\"dataframe\">\n",
       "  <thead>\n",
       "    <tr style=\"text-align: right;\">\n",
       "      <th></th>\n",
       "      <th>Money</th>\n",
       "      <th>Spending</th>\n",
       "      <th>Money_1d</th>\n",
       "      <th>MoneyForecast</th>\n",
       "      <th>Spending_1d</th>\n",
       "      <th>SpendingForecast</th>\n",
       "    </tr>\n",
       "  </thead>\n",
       "  <tbody>\n",
       "    <tr>\n",
       "      <th>2015-01-01</th>\n",
       "      <td>-18.479354</td>\n",
       "      <td>37.568815</td>\n",
       "      <td>60.120646</td>\n",
       "      <td>11730.220646</td>\n",
       "      <td>48.168815</td>\n",
       "      <td>12110.168815</td>\n",
       "    </tr>\n",
       "    <tr>\n",
       "      <th>2015-02-01</th>\n",
       "      <td>-10.837259</td>\n",
       "      <td>-8.339755</td>\n",
       "      <td>49.283387</td>\n",
       "      <td>11779.504034</td>\n",
       "      <td>39.829061</td>\n",
       "      <td>12149.997876</td>\n",
       "    </tr>\n",
       "    <tr>\n",
       "      <th>2015-03-01</th>\n",
       "      <td>4.217030</td>\n",
       "      <td>3.699753</td>\n",
       "      <td>53.500418</td>\n",
       "      <td>11833.004451</td>\n",
       "      <td>43.528814</td>\n",
       "      <td>12193.526689</td>\n",
       "    </tr>\n",
       "    <tr>\n",
       "      <th>2015-04-01</th>\n",
       "      <td>-1.497380</td>\n",
       "      <td>-0.969060</td>\n",
       "      <td>52.003037</td>\n",
       "      <td>11885.007488</td>\n",
       "      <td>42.559753</td>\n",
       "      <td>12236.086442</td>\n",
       "    </tr>\n",
       "    <tr>\n",
       "      <th>2015-05-01</th>\n",
       "      <td>0.653423</td>\n",
       "      <td>0.859884</td>\n",
       "      <td>52.656461</td>\n",
       "      <td>11937.663949</td>\n",
       "      <td>43.419637</td>\n",
       "      <td>12279.506080</td>\n",
       "    </tr>\n",
       "    <tr>\n",
       "      <th>2015-06-01</th>\n",
       "      <td>-0.142812</td>\n",
       "      <td>0.130335</td>\n",
       "      <td>52.513649</td>\n",
       "      <td>11990.177598</td>\n",
       "      <td>43.549972</td>\n",
       "      <td>12323.056051</td>\n",
       "    </tr>\n",
       "    <tr>\n",
       "      <th>2015-07-01</th>\n",
       "      <td>0.142230</td>\n",
       "      <td>0.430547</td>\n",
       "      <td>52.655879</td>\n",
       "      <td>12042.833477</td>\n",
       "      <td>43.980519</td>\n",
       "      <td>12367.036570</td>\n",
       "    </tr>\n",
       "    <tr>\n",
       "      <th>2015-08-01</th>\n",
       "      <td>0.047427</td>\n",
       "      <td>0.300653</td>\n",
       "      <td>52.703306</td>\n",
       "      <td>12095.536783</td>\n",
       "      <td>44.281172</td>\n",
       "      <td>12411.317742</td>\n",
       "    </tr>\n",
       "    <tr>\n",
       "      <th>2015-09-01</th>\n",
       "      <td>0.073388</td>\n",
       "      <td>0.361109</td>\n",
       "      <td>52.776694</td>\n",
       "      <td>12148.313478</td>\n",
       "      <td>44.642281</td>\n",
       "      <td>12455.960024</td>\n",
       "    </tr>\n",
       "    <tr>\n",
       "      <th>2015-10-01</th>\n",
       "      <td>0.070892</td>\n",
       "      <td>0.330263</td>\n",
       "      <td>52.847587</td>\n",
       "      <td>12201.161064</td>\n",
       "      <td>44.972544</td>\n",
       "      <td>12500.932568</td>\n",
       "    </tr>\n",
       "    <tr>\n",
       "      <th>2015-11-01</th>\n",
       "      <td>0.066491</td>\n",
       "      <td>0.347605</td>\n",
       "      <td>52.914078</td>\n",
       "      <td>12254.075142</td>\n",
       "      <td>45.320149</td>\n",
       "      <td>12546.252717</td>\n",
       "    </tr>\n",
       "    <tr>\n",
       "      <th>2015-12-01</th>\n",
       "      <td>0.072029</td>\n",
       "      <td>0.336989</td>\n",
       "      <td>52.986107</td>\n",
       "      <td>12307.061249</td>\n",
       "      <td>45.657138</td>\n",
       "      <td>12591.909855</td>\n",
       "    </tr>\n",
       "  </tbody>\n",
       "</table>\n",
       "</div>"
      ],
      "text/plain": [
       "                Money   Spending   Money_1d  MoneyForecast  Spending_1d  \\\n",
       "2015-01-01 -18.479354  37.568815  60.120646   11730.220646    48.168815   \n",
       "2015-02-01 -10.837259  -8.339755  49.283387   11779.504034    39.829061   \n",
       "2015-03-01   4.217030   3.699753  53.500418   11833.004451    43.528814   \n",
       "2015-04-01  -1.497380  -0.969060  52.003037   11885.007488    42.559753   \n",
       "2015-05-01   0.653423   0.859884  52.656461   11937.663949    43.419637   \n",
       "2015-06-01  -0.142812   0.130335  52.513649   11990.177598    43.549972   \n",
       "2015-07-01   0.142230   0.430547  52.655879   12042.833477    43.980519   \n",
       "2015-08-01   0.047427   0.300653  52.703306   12095.536783    44.281172   \n",
       "2015-09-01   0.073388   0.361109  52.776694   12148.313478    44.642281   \n",
       "2015-10-01   0.070892   0.330263  52.847587   12201.161064    44.972544   \n",
       "2015-11-01   0.066491   0.347605  52.914078   12254.075142    45.320149   \n",
       "2015-12-01   0.072029   0.336989  52.986107   12307.061249    45.657138   \n",
       "\n",
       "            SpendingForecast  \n",
       "2015-01-01      12110.168815  \n",
       "2015-02-01      12149.997876  \n",
       "2015-03-01      12193.526689  \n",
       "2015-04-01      12236.086442  \n",
       "2015-05-01      12279.506080  \n",
       "2015-06-01      12323.056051  \n",
       "2015-07-01      12367.036570  \n",
       "2015-08-01      12411.317742  \n",
       "2015-09-01      12455.960024  \n",
       "2015-10-01      12500.932568  \n",
       "2015-11-01      12546.252717  \n",
       "2015-12-01      12591.909855  "
      ]
     },
     "execution_count": 293,
     "metadata": {},
     "output_type": "execute_result"
    }
   ],
   "source": [
    "forecasted_df\n"
   ]
  },
  {
   "cell_type": "code",
   "execution_count": 294,
   "metadata": {},
   "outputs": [
    {
     "data": {
      "text/html": [
       "<div>\n",
       "<style scoped>\n",
       "    .dataframe tbody tr th:only-of-type {\n",
       "        vertical-align: middle;\n",
       "    }\n",
       "\n",
       "    .dataframe tbody tr th {\n",
       "        vertical-align: top;\n",
       "    }\n",
       "\n",
       "    .dataframe thead th {\n",
       "        text-align: right;\n",
       "    }\n",
       "</style>\n",
       "<table border=\"1\" class=\"dataframe\">\n",
       "  <thead>\n",
       "    <tr style=\"text-align: right;\">\n",
       "      <th></th>\n",
       "      <th>Money</th>\n",
       "      <th>Spending</th>\n",
       "    </tr>\n",
       "    <tr>\n",
       "      <th>Date</th>\n",
       "      <th></th>\n",
       "      <th></th>\n",
       "    </tr>\n",
       "  </thead>\n",
       "  <tbody>\n",
       "    <tr>\n",
       "      <th>2015-01-01</th>\n",
       "      <td>11733.2</td>\n",
       "      <td>12046.0</td>\n",
       "    </tr>\n",
       "    <tr>\n",
       "      <th>2015-02-01</th>\n",
       "      <td>11852.4</td>\n",
       "      <td>12082.4</td>\n",
       "    </tr>\n",
       "    <tr>\n",
       "      <th>2015-03-01</th>\n",
       "      <td>11868.8</td>\n",
       "      <td>12158.3</td>\n",
       "    </tr>\n",
       "    <tr>\n",
       "      <th>2015-04-01</th>\n",
       "      <td>11916.1</td>\n",
       "      <td>12193.8</td>\n",
       "    </tr>\n",
       "    <tr>\n",
       "      <th>2015-05-01</th>\n",
       "      <td>11947.6</td>\n",
       "      <td>12268.1</td>\n",
       "    </tr>\n",
       "    <tr>\n",
       "      <th>2015-06-01</th>\n",
       "      <td>11993.1</td>\n",
       "      <td>12308.3</td>\n",
       "    </tr>\n",
       "    <tr>\n",
       "      <th>2015-07-01</th>\n",
       "      <td>12045.3</td>\n",
       "      <td>12355.4</td>\n",
       "    </tr>\n",
       "    <tr>\n",
       "      <th>2015-08-01</th>\n",
       "      <td>12096.8</td>\n",
       "      <td>12394.0</td>\n",
       "    </tr>\n",
       "    <tr>\n",
       "      <th>2015-09-01</th>\n",
       "      <td>12153.8</td>\n",
       "      <td>12392.8</td>\n",
       "    </tr>\n",
       "    <tr>\n",
       "      <th>2015-10-01</th>\n",
       "      <td>12187.7</td>\n",
       "      <td>12416.1</td>\n",
       "    </tr>\n",
       "    <tr>\n",
       "      <th>2015-11-01</th>\n",
       "      <td>12277.4</td>\n",
       "      <td>12450.1</td>\n",
       "    </tr>\n",
       "    <tr>\n",
       "      <th>2015-12-01</th>\n",
       "      <td>12335.9</td>\n",
       "      <td>12469.1</td>\n",
       "    </tr>\n",
       "  </tbody>\n",
       "</table>\n",
       "</div>"
      ],
      "text/plain": [
       "              Money  Spending\n",
       "Date                         \n",
       "2015-01-01  11733.2   12046.0\n",
       "2015-02-01  11852.4   12082.4\n",
       "2015-03-01  11868.8   12158.3\n",
       "2015-04-01  11916.1   12193.8\n",
       "2015-05-01  11947.6   12268.1\n",
       "2015-06-01  11993.1   12308.3\n",
       "2015-07-01  12045.3   12355.4\n",
       "2015-08-01  12096.8   12394.0\n",
       "2015-09-01  12153.8   12392.8\n",
       "2015-10-01  12187.7   12416.1\n",
       "2015-11-01  12277.4   12450.1\n",
       "2015-12-01  12335.9   12469.1"
      ]
     },
     "execution_count": 294,
     "metadata": {},
     "output_type": "execute_result"
    }
   ],
   "source": [
    "#obtaining the original test data without being differenced\n",
    "test_range=data[-12:]\n",
    "test_range"
   ]
  },
  {
   "cell_type": "markdown",
   "metadata": {},
   "source": [
    "#### Plotting the test and forecasted Money Data"
   ]
  },
  {
   "cell_type": "code",
   "execution_count": 295,
   "metadata": {},
   "outputs": [
    {
     "data": {
      "text/plain": [
       "<matplotlib.axes._subplots.AxesSubplot at 0x16701b9e970>"
      ]
     },
     "execution_count": 295,
     "metadata": {},
     "output_type": "execute_result"
    },
    {
     "data": {
      "image/png": "[encoded data removed]",
      "text/plain": [
       "<Figure size 864x576 with 1 Axes>"
      ]
     },
     "metadata": {
      "needs_background": "light"
     },
     "output_type": "display_data"
    }
   ],
   "source": [
    "test_range['Money'].plot(figsize=(12,8),legend=True)\n",
    "forecasted_df['MoneyForecast'].plot(legend=True)"
   ]
  },
  {
   "cell_type": "markdown",
   "metadata": {},
   "source": [
    "#### Plotting the test and forecasted Spending Data"
   ]
  },
  {
   "cell_type": "code",
   "execution_count": 296,
   "metadata": {},
   "outputs": [
    {
     "data": {
      "text/plain": [
       "<matplotlib.axes._subplots.AxesSubplot at 0x167037fb250>"
      ]
     },
     "execution_count": 296,
     "metadata": {},
     "output_type": "execute_result"
    },
    {
     "data": {
      "image/png": "[encoded data removed]",
      "text/plain": [
       "<Figure size 864x576 with 1 Axes>"
      ]
     },
     "metadata": {
      "needs_background": "light"
     },
     "output_type": "display_data"
    }
   ],
   "source": [
    "test_range['Spending'].plot(figsize=(12,8),legend=True)\n",
    "forecasted_df['SpendingForecast'].plot(legend=True)"
   ]
  },
  {
   "cell_type": "markdown",
   "metadata": {},
   "source": [
    "#### Evaluating the model"
   ]
  },
  {
   "cell_type": "code",
   "execution_count": 268,
   "metadata": {},
   "outputs": [
    {
     "data": {
      "text/plain": [
       "63.253909342589075"
      ]
     },
     "execution_count": 268,
     "metadata": {},
     "output_type": "execute_result"
    }
   ],
   "source": [
    "#for spending \n",
    "np.sqrt(mean_squared_error(test_range['Spending'],forecasted_df['SpendingForecast']))"
   ]
  },
  {
   "cell_type": "code",
   "execution_count": 213,
   "metadata": {},
   "outputs": [
    {
     "data": {
      "text/plain": [
       "12294.533333333333"
      ]
     },
     "execution_count": 213,
     "metadata": {},
     "output_type": "execute_result"
    }
   ],
   "source": [
    "test_range['Spending'].mean()"
   ]
  },
  {
   "cell_type": "code",
   "execution_count": 269,
   "metadata": {},
   "outputs": [
    {
     "data": {
      "text/plain": [
       "27.797982217060557"
      ]
     },
     "execution_count": 269,
     "metadata": {},
     "output_type": "execute_result"
    }
   ],
   "source": [
    "#for money\n",
    "np.sqrt(mean_squared_error(test_range['Money'],forecasted_df['MoneyForecast']))"
   ]
  },
  {
   "cell_type": "code",
   "execution_count": 214,
   "metadata": {},
   "outputs": [
    {
     "data": {
      "text/plain": [
       "12034.008333333333"
      ]
     },
     "execution_count": 214,
     "metadata": {},
     "output_type": "execute_result"
    }
   ],
   "source": [
    "test_range['Money'].mean()"
   ]
  },
  {
   "cell_type": "markdown",
   "metadata": {},
   "source": [
    "Thank you"
   ]
  }
 ],
 "metadata": {
  "kernelspec": {
   "display_name": "Python 3",
   "language": "python",
   "name": "python3"
  },
  "language_info": {
   "codemirror_mode": {
    "name": "ipython",
    "version": 3
   },
   "file_extension": ".py",
   "mimetype": "text/x-python",
   "name": "python",
   "nbconvert_exporter": "python",
   "pygments_lexer": "ipython3",
   "version": "3.8.3"
  }
 },
 "nbformat": 4,
 "nbformat_minor": 4
}
